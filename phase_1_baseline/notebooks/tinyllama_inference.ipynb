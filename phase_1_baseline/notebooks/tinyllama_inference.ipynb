{
 "cells": [
  {
   "cell_type": "markdown",
   "id": "c50ad898",
   "metadata": {},
   "source": [
    "一、环境准备\n",
    "\n",
    "TinyLlama 是一个 1.1B 参数的轻量化 Llama 变体，可以在消费级 GPU（如 RTX 3060 / A100）上运行。官方模型来自 TinyLlama/TinyLlama-1.1B-intermediate-step-1431k-3T\n",
    "。\n",
    "\n",
    "安装依赖："
   ]
  },
  {
   "cell_type": "markdown",
   "id": "5fdf82a0",
   "metadata": {
    "vscode": {
     "languageId": "powershell"
    }
   },
   "source": [
    "conda create -n tinyllama python=3.10 -y\n",
    "conda activate tinyllama\n",
    "\n",
    "pip install torch==2.2.1 transformers==4.43.3 accelerate sentencepiece bitsandbytes\n",
    "pip install datasets tqdm\n",
    "pip install torchprofile thop"
   ]
  },
  {
   "cell_type": "markdown",
   "id": "b293273d",
   "metadata": {},
   "source": [
    "二、模型加载与推理\n",
    "\n",
    "使用 Hugging Face 的 transformers API 直接运行推理："
   ]
  },
  {
   "cell_type": "code",
   "execution_count": 9,
   "id": "f437f2e4",
   "metadata": {},
   "outputs": [
    {
     "name": "stdout",
     "output_type": "stream",
     "text": [
      "Explain the concept of adaptive computation time in simple terms.\n",
      "\n",
      "A: Adaptive computation time means the time required to compute an answer to a problem. \n",
      "For example, if you have to calculate a 32-bit integer sum from 2^32 to 2^64, then the time required for the computation is 2^64 - 2^32. \n",
      "\n",
      "A: In general,\n"
     ]
    }
   ],
   "source": [
    "from transformers import AutoTokenizer, AutoModelForCausalLM\n",
    "\n",
    "model_id = \"Tinyllama/Tinyllama-1.1B-intermediate-step-1431k-3T\"\n",
    "\n",
    "tokenizer = AutoTokenizer.from_pretrained(model_id)\n",
    "model = AutoModelForCausalLM.from_pretrained(model_id, device_map=\"auto\", torch_dtype=\"auto\")\n",
    "\n",
    "prompt = \"Explain the concept of adaptive computation time in simple terms.\"\n",
    "inputs = tokenizer(prompt, return_tensors=\"pt\").to(model.device)\n",
    "\n",
    "outputs = model.generate(\n",
    "    **inputs,\n",
    "    max_new_tokens=80,\n",
    "    do_sample=True,\n",
    "    temperature=0.7,\n",
    "    top_p=0.9\n",
    ")\n",
    "\n",
    "print(tokenizer.decode(outputs[0], skip_special_tokens=True))"
   ]
  },
  {
   "cell_type": "markdown",
   "id": "ecf6c00a",
   "metadata": {},
   "source": [
    "三、性能分析（FLOPs 与推理时间）\n",
    "\n",
    "可以测量单次推理的延迟与大致计算量："
   ]
  },
  {
   "cell_type": "code",
   "execution_count": null,
   "id": "8f50d78c",
   "metadata": {},
   "outputs": [
    {
     "ename": "AssertionError",
     "evalue": "Torch not compiled with CUDA enabled",
     "output_type": "error",
     "traceback": [
      "\u001b[1;31m---------------------------------------------------------------------------\u001b[0m",
      "\u001b[1;31mAssertionError\u001b[0m                            Traceback (most recent call last)",
      "Cell \u001b[1;32mIn[10], line 11\u001b[0m\n\u001b[0;32m      9\u001b[0m start \u001b[38;5;241m=\u001b[39m time\u001b[38;5;241m.\u001b[39mtime()\n\u001b[0;32m     10\u001b[0m _ \u001b[38;5;241m=\u001b[39m model\u001b[38;5;241m.\u001b[39mgenerate(\u001b[38;5;241m*\u001b[39m\u001b[38;5;241m*\u001b[39minputs, max_new_tokens\u001b[38;5;241m=\u001b[39m\u001b[38;5;241m64\u001b[39m)\n\u001b[1;32m---> 11\u001b[0m \u001b[43mtorch\u001b[49m\u001b[38;5;241;43m.\u001b[39;49m\u001b[43mcuda\u001b[49m\u001b[38;5;241;43m.\u001b[39;49m\u001b[43msynchronize\u001b[49m\u001b[43m(\u001b[49m\u001b[43m)\u001b[49m\n\u001b[0;32m     12\u001b[0m \u001b[38;5;28mprint\u001b[39m(\u001b[38;5;124mf\u001b[39m\u001b[38;5;124m\"\u001b[39m\u001b[38;5;124mInference time: \u001b[39m\u001b[38;5;132;01m{\u001b[39;00mtime\u001b[38;5;241m.\u001b[39mtime()\u001b[38;5;250m \u001b[39m\u001b[38;5;241m-\u001b[39m\u001b[38;5;250m \u001b[39mstart\u001b[38;5;132;01m:\u001b[39;00m\u001b[38;5;124m.3f\u001b[39m\u001b[38;5;132;01m}\u001b[39;00m\u001b[38;5;124m sec\u001b[39m\u001b[38;5;124m\"\u001b[39m)\n\u001b[0;32m     14\u001b[0m \u001b[38;5;66;03m# FLOPs (仅前向)\u001b[39;00m\n",
      "File \u001b[1;32md:\\Anaconda3\\envs\\tinyllama\\lib\\site-packages\\torch\\cuda\\__init__.py:1081\u001b[0m, in \u001b[0;36msynchronize\u001b[1;34m(device)\u001b[0m\n\u001b[0;32m   1077\u001b[0m \u001b[38;5;28;01mdef\u001b[39;00m\u001b[38;5;250m \u001b[39m\u001b[38;5;21mtype\u001b[39m(\u001b[38;5;28mself\u001b[39m, \u001b[38;5;241m*\u001b[39margs, \u001b[38;5;241m*\u001b[39m\u001b[38;5;241m*\u001b[39mkwargs):\n\u001b[0;32m   1078\u001b[0m     \u001b[38;5;66;03m# We could use a Protocol here to tell mypy that self has `get_device` method\u001b[39;00m\n\u001b[0;32m   1079\u001b[0m     \u001b[38;5;66;03m# but it is only available in the typing module on Python >= 3.8\u001b[39;00m\n\u001b[0;32m   1080\u001b[0m     \u001b[38;5;66;03m# or on typing_extensions module on Python >= 3.6\u001b[39;00m\n\u001b[1;32m-> 1081\u001b[0m     \u001b[38;5;28;01mwith\u001b[39;00m device(\u001b[38;5;28mself\u001b[39m\u001b[38;5;241m.\u001b[39mget_device()):  \u001b[38;5;66;03m# type: ignore[attr-defined]\u001b[39;00m\n\u001b[0;32m   1082\u001b[0m         \u001b[38;5;28;01mreturn\u001b[39;00m \u001b[38;5;28msuper\u001b[39m()\u001b[38;5;241m.\u001b[39mtype(\u001b[38;5;241m*\u001b[39margs, \u001b[38;5;241m*\u001b[39m\u001b[38;5;241m*\u001b[39mkwargs)\n",
      "File \u001b[1;32md:\\Anaconda3\\envs\\tinyllama\\lib\\site-packages\\torch\\cuda\\__init__.py:403\u001b[0m, in \u001b[0;36m_lazy_init\u001b[1;34m()\u001b[0m\n\u001b[0;32m    396\u001b[0m \u001b[38;5;28;01mdef\u001b[39;00m\u001b[38;5;250m \u001b[39m\u001b[38;5;21mset_device\u001b[39m(device: _device_t) \u001b[38;5;241m-\u001b[39m\u001b[38;5;241m>\u001b[39m \u001b[38;5;28;01mNone\u001b[39;00m:\n\u001b[0;32m    397\u001b[0m \u001b[38;5;250m    \u001b[39m\u001b[38;5;124mr\u001b[39m\u001b[38;5;124;03m\"\"\"Set the current device.\u001b[39;00m\n\u001b[0;32m    398\u001b[0m \n\u001b[0;32m    399\u001b[0m \u001b[38;5;124;03m    Usage of this function is discouraged in favor of :any:`device`. In most\u001b[39;00m\n\u001b[0;32m    400\u001b[0m \u001b[38;5;124;03m    cases it's better to use ``CUDA_VISIBLE_DEVICES`` environmental variable.\u001b[39;00m\n\u001b[0;32m    401\u001b[0m \n\u001b[0;32m    402\u001b[0m \u001b[38;5;124;03m    Args:\u001b[39;00m\n\u001b[1;32m--> 403\u001b[0m \u001b[38;5;124;03m        device (torch.device or int): selected device. This function is a no-op\u001b[39;00m\n\u001b[0;32m    404\u001b[0m \u001b[38;5;124;03m            if this argument is negative.\u001b[39;00m\n\u001b[0;32m    405\u001b[0m \u001b[38;5;124;03m    \"\"\"\u001b[39;00m\n\u001b[0;32m    406\u001b[0m     device \u001b[38;5;241m=\u001b[39m _get_device_index(device)\n\u001b[0;32m    407\u001b[0m     \u001b[38;5;28;01mif\u001b[39;00m device \u001b[38;5;241m>\u001b[39m\u001b[38;5;241m=\u001b[39m \u001b[38;5;241m0\u001b[39m:\n",
      "\u001b[1;31mAssertionError\u001b[0m: Torch not compiled with CUDA enabled"
     ]
    }
   ],
   "source": [
    "import torch    \n",
    "import time\n",
    "from thop import profile\n",
    "\n",
    "prompt = \"What is adaptive reasoning in neural networks?\"\n",
    "inputs = tokenizer(prompt, return_tensors=\"pt\").to(model.device)\n",
    "\n",
    "# 计时\n",
    "start = time.time()\n",
    "_ = model.generate(**inputs, max_new_tokens=64)\n",
    "torch.cuda.synchronize()\n",
    "print(f\"Inference time: {time.time() - start:.3f} sec\")\n",
    "\n",
    "# FLOPs (仅前向)\n",
    "flops, params = profile(model, inputs=(inputs[\"input_ids\"],))\n",
    "print(f\"FLOPs: {flops/1e9:.2f} GFLOPs | Params: {params/1e6:.2f} M\")"
   ]
  },
  {
   "cell_type": "code",
   "execution_count": 11,
   "id": "3ab7e404",
   "metadata": {},
   "outputs": [
    {
     "name": "stdout",
     "output_type": "stream",
     "text": [
      "False\n",
      "None\n"
     ]
    }
   ],
   "source": [
    "import torch\n",
    "print(torch.cuda.is_available())  # True 表示成功\n",
    "print(torch.version.cuda)         # 显示CUDA版本\n"
   ]
  }
 ],
 "metadata": {
  "kernelspec": {
   "display_name": "tinyllama",
   "language": "python",
   "name": "python3"
  },
  "language_info": {
   "codemirror_mode": {
    "name": "ipython",
    "version": 3
   },
   "file_extension": ".py",
   "mimetype": "text/x-python",
   "name": "python",
   "nbconvert_exporter": "python",
   "pygments_lexer": "ipython3",
   "version": "3.10.19"
  }
 },
 "nbformat": 4,
 "nbformat_minor": 5
}
